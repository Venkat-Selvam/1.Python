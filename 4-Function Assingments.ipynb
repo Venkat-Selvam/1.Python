{
 "cells": [
  {
   "cell_type": "code",
   "execution_count": 10,
   "metadata": {},
   "outputs": [
    {
     "name": "stdout",
     "output_type": "stream",
     "text": [
      "Enter Your Field name:AI\n",
      "Sub-fields in AI are:\n",
      "Machine Learning\n",
      "Neural Networks\n",
      "Vision\n",
      "Robotics\n",
      "Speech Processing\n",
      "Natural Language Processing\n"
     ]
    }
   ],
   "source": [
    "def Subfields():\n",
    "    Field_Name=input(\"Enter Your Field name:\")\n",
    "    Course,Course1=\"AI\", \"Music\"\n",
    "    \n",
    "    if(Field_Name==Course):\n",
    "        print(\"Sub-fields in AI are:\")\n",
    "        print(\"Machine Learning\\nNeural Networks\\nVision\\nRobotics\\nSpeech Processing\\nNatural Language Processing\")\n",
    "        domain=\"Machine Learning\\nNeural Networks\\nVision\\nRobotics\\nSpeech Processing\\nNatural Language Processing\"\n",
    "        \n",
    "    elif(Field_Name==Course1):\n",
    "        print(\"Sub-fields in Music are:\")\n",
    "        print(\"Music Production\\nMusic Direction\\nComposer\\nSound Engineer\\nConductor\\nMixing and Mastering\\nDrumer\")\n",
    "        domain=\"Music Production\\nMusic Direction\\nComposer\\nSound Engineer\\nConductor\\nMixing and Mastering\\nDrumer\"\n",
    "        \n",
    "    else:\n",
    "        print(\"Please Check Your Field Name...\")\n",
    "        domain=\"Please Check Your Field Name...\"\n",
    "    return domain\n",
    "\n",
    "Fields=Subfields()"
   ]
  },
  {
   "cell_type": "code",
   "execution_count": 16,
   "metadata": {},
   "outputs": [
    {
     "name": "stdout",
     "output_type": "stream",
     "text": [
      "Enter a Number:4\n",
      "4 is Even Number\n"
     ]
    }
   ],
   "source": [
    "def OddEven():\n",
    "    num=int(input(\"Enter a Number:\"))\n",
    "    \n",
    "    if(num%2==0):\n",
    "        print(num,\"is Even Number\")\n",
    "        number=\"Even Number\"       \n",
    "    else:\n",
    "        print(num,\"is Odd  Number\")\n",
    "        number=\"Odd Number\"\n",
    "    return number\n",
    "\n",
    "numerics=OddEven()"
   ]
  },
  {
   "cell_type": "code",
   "execution_count": 12,
   "metadata": {},
   "outputs": [
    {
     "name": "stdout",
     "output_type": "stream",
     "text": [
      "Your Gender:Male\n",
      "Your Age:18\n",
      "NOT ELIGIBLE\n"
     ]
    }
   ],
   "source": [
    "def Eligible():\n",
    "    User_Gender=input(\"Your Gender:\")\n",
    "    User_Age=int(input(\"Your Age:\"))\n",
    "    Gender1,Gender2=\"Male\",\"Female\"\n",
    "    Age=18\n",
    "    \n",
    "    if(User_Gender==Gender1,Gender2)and(User_Age>Age):\n",
    "        print(\"ELIGIBLE\")\n",
    "        result=\"ELIGIBLE\"\n",
    "    else:\n",
    "        print(\"NOT ELIGIBLE\")\n",
    "        result=\"Not ELIGIBLE\"\n",
    "    return result\n",
    "\n",
    "Result=Eligible()\n"
   ]
  },
  {
   "cell_type": "code",
   "execution_count": 14,
   "metadata": {},
   "outputs": [
    {
     "name": "stdout",
     "output_type": "stream",
     "text": [
      "Subject1= 23\n",
      "Subject2= 45\n",
      "Subject3= 34\n",
      "Subject4= 23\n",
      "Subject5= 23\n",
      "Total: 148\n",
      "percentage: 29.6\n"
     ]
    }
   ],
   "source": [
    "def percentage(sub1,sub2,sub3,sub4,sub5):\n",
    "    total=sub1+sub2+sub3+sub4+sub5\n",
    "    percent=total/5\n",
    "    print(\"Subject1=\",sub1)\n",
    "    Mark=\"Subject1=\",sub1\n",
    "    \n",
    "    print(\"Subject2=\",sub2)\n",
    "    Mark=\"Subject2=\",sub2\n",
    "    \n",
    "    print(\"Subject3=\",sub3)\n",
    "    Mark=\"Subject3=\",sub3\n",
    "    \n",
    "    print(\"Subject4=\",sub4)\n",
    "    Mark=\"Subject4=\",sub4\n",
    "    \n",
    "    print(\"Subject5=\",sub5)\n",
    "    Mark=\"Subject5=\",sub5\n",
    "    \n",
    "    print(\"Total:\",total)\n",
    "    Mark=\"Total:\"\n",
    "    \n",
    "    print(\"percentage:\",percent)\n",
    "    Mark=\"Percentage:\" \n",
    "GetMarks=percentage(23,45,34,23,23)"
   ]
  },
  {
   "cell_type": "code",
   "execution_count": 14,
   "metadata": {},
   "outputs": [
    {
     "name": "stdout",
     "output_type": "stream",
     "text": [
      "Height: 3\n",
      "Breadth: 4\n",
      "Area of Triangle: 6.0\n",
      "Height1: 3\n",
      "Height2: 4\n",
      "Breadth: 45\n",
      "Perimeter of Triangle: 52\n"
     ]
    }
   ],
   "source": [
    "def triangle(Height,Breadth,Height1,Height2,Breadth3):\n",
    "    Area_formula=Height*Breadth/2\n",
    "    \n",
    "    print(\"Height:\",Height)\n",
    "    Measurments=\"Height:\"\n",
    "    \n",
    "    print(\"Breadth:\",Breadth)\n",
    "    Measurments=\"Breadth:\"\n",
    "    \n",
    "    print(\"Area of Triangle:\",Area_formula)\n",
    "    Measurments=\"Area of Triangle:\"\n",
    "    \n",
    "    Perimeter_formula=Height1+Height2+Breadth3\n",
    "    \n",
    "    print(\"Height1:\",Height1)\n",
    "    Measurments=\"Height1:\"\n",
    "    \n",
    "    print(\"Height2:\",Height2)\n",
    "    Measurments=\"Height2:\"\n",
    "    \n",
    "    print(\"Breadth:\",Breadth3)\n",
    "    Measurments=\"Breadth:\"\n",
    "    \n",
    "    print(\"Perimeter of Triangle:\",Perimeter_formula)\n",
    "    Measurments=\"Perimeter of Triangle:\"\n",
    "    \n",
    "Shape=triangle(3,4,3,4,45)"
   ]
  }
 ],
 "metadata": {
  "kernelspec": {
   "display_name": "Python 3",
   "language": "python",
   "name": "python3"
  },
  "language_info": {
   "codemirror_mode": {
    "name": "ipython",
    "version": 3
   },
   "file_extension": ".py",
   "mimetype": "text/x-python",
   "name": "python",
   "nbconvert_exporter": "python",
   "pygments_lexer": "ipython3",
   "version": "3.7.4"
  }
 },
 "nbformat": 4,
 "nbformat_minor": 2
}
