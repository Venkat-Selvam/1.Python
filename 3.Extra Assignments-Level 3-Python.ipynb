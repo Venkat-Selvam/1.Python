{
 "cells": [
  {
   "cell_type": "code",
   "execution_count": 1,
   "metadata": {},
   "outputs": [
    {
     "name": "stdout",
     "output_type": "stream",
     "text": [
      "Value: 10\n",
      "Correct\n"
     ]
    }
   ],
   "source": [
    "num=[30,60,10,50]\n",
    "for i in num:\n",
    "    if (i==10):\n",
    "        print(\"Value:\",i)\n",
    "        print(\"Correct\")"
   ]
  },
  {
   "cell_type": "code",
   "execution_count": 6,
   "metadata": {},
   "outputs": [
    {
     "name": "stdout",
     "output_type": "stream",
     "text": [
      "Enter your age:20\n",
      "Age: 20\n",
      "Adult\n"
     ]
    }
   ],
   "source": [
    "age=int(input(\"Enter your age:\"))\n",
    "if(age<18):\n",
    "    print(\"Age:\",age)\n",
    "    print(\"Children\")\n",
    "elif(age==20):\n",
    "    print(\"Age:\",age)\n",
    "    print(\"Adult\")\n",
    "elif(age>20 and age<50):\n",
    "    print(\"Age:\",age)\n",
    "    print(\"Citizen\")\n",
    "else:\n",
    "    print(\"Age:\",age)\n",
    "    print(\"Senior Citizen\")"
   ]
  },
  {
   "cell_type": "code",
   "execution_count": 6,
   "metadata": {},
   "outputs": [
    {
     "name": "stdout",
     "output_type": "stream",
     "text": [
      "Enter Any Number:1\n",
      "No is Positive\n"
     ]
    }
   ],
   "source": [
    "num=int(input(\"Enter Any Number:\"))\n",
    "if(num>0):\n",
    "    print(\"No is Positive\")\n",
    "elif(num<0):\n",
    "    print(\"No is Negative\")\n",
    "else:\n",
    "    print(\"Neutral or Zero\")"
   ]
  },
  {
   "cell_type": "code",
   "execution_count": 12,
   "metadata": {},
   "outputs": [
    {
     "name": "stdout",
     "output_type": "stream",
     "text": [
      "Enter a number to check:22\n",
      "Number is Not Divisible by 5\n"
     ]
    }
   ],
   "source": [
    "num=int(input(\"Enter a number to check:\"))\n",
    "divisible=5\n",
    "if(num%divisible):\n",
    "    print(\"Number is Not Divisible by 5\")\n",
    "else:\n",
    "    print(\"Number is Divisible by 5\")"
   ]
  },
  {
   "cell_type": "code",
   "execution_count": 17,
   "metadata": {},
   "outputs": [
    {
     "name": "stdout",
     "output_type": "stream",
     "text": [
      "Enter Your Password:HOPE@123\n",
      "Your password is correct\n"
     ]
    }
   ],
   "source": [
    "userpassword=input(\"Enter Your Password:\")\n",
    "password=\"HOPE@123\"\n",
    "if(userpassword==password):\n",
    "    print(\"Your password is correct\")\n",
    "else:\n",
    "    print(\"Your Password is Incorrect\")"
   ]
  },
  {
   "cell_type": "code",
   "execution_count": null,
   "metadata": {},
   "outputs": [],
   "source": []
  }
 ],
 "metadata": {
  "kernelspec": {
   "display_name": "Python 3",
   "language": "python",
   "name": "python3"
  },
  "language_info": {
   "codemirror_mode": {
    "name": "ipython",
    "version": 3
   },
   "file_extension": ".py",
   "mimetype": "text/x-python",
   "name": "python",
   "nbconvert_exporter": "python",
   "pygments_lexer": "ipython3",
   "version": "3.7.4"
  }
 },
 "nbformat": 4,
 "nbformat_minor": 2
}
